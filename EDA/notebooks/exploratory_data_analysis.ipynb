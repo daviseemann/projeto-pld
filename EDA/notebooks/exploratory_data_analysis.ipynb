{
 "cells": [
  {
   "cell_type": "code",
   "execution_count": null,
   "metadata": {},
   "outputs": [],
   "source": [
    "import pandas as pd\n",
    "import numpy as np"
   ]
  },
  {
   "cell_type": "code",
   "execution_count": null,
   "metadata": {},
   "outputs": [
    {
     "data": {
      "text/plain": [
       "['Test Sheet']"
      ]
     },
     "execution_count": 4,
     "metadata": {},
     "output_type": "execute_result"
    }
   ],
   "source": [
    "excel_path = \"../data/Historico_do_Preco_Horario_-_17_de_abril_de_2018_a_6_de_novembro_de_2024.xlsx\"\n",
    "df = pd.ExcelFile(excel_path)\n",
    "df.sheet_names"
   ]
  },
  {
   "cell_type": "code",
   "execution_count": null,
   "metadata": {},
   "outputs": [],
   "source": [
    "data = df.parse(sheet_name=df.sheet_names[0])"
   ]
  },
  {
   "cell_type": "code",
   "execution_count": 6,
   "metadata": {},
   "outputs": [],
   "source": [
    "data.dropna(inplace=True)"
   ]
  },
  {
   "cell_type": "code",
   "execution_count": 22,
   "metadata": {},
   "outputs": [],
   "source": [
    "# Despivotar os dados para transformar colunas de datas em linhas\n",
    "data_melted = data.melt(\n",
    "    id_vars=[\"Hora\", \"Submercado\"],  # Colunas que permanecem como identificadores\n",
    "    var_name=\"Data\",  # Nome para a nova coluna que conterá os nomes das colunas originais (datas)\n",
    "    value_name=\"Valor\",  # Nome para a nova coluna que conterá os valores das colunas originais\n",
    ")\n",
    "\n",
    "# # Converter a coluna \"Data\" para o formato datetime\n",
    "# data_melted[\"Data\"] = pd.to_datetime(data_melted[\"Data\"], errors=\"coerce\")\n",
    "# data_melted = data_melted.reset_index(drop=True)\n",
    "# data_melted = data_melted.assign(\n",
    "#     Ano=data_melted.Data.dt.year, Mes=data_melted.Data.dt.month\n",
    "# )\n",
    "\n",
    "data_melted.to_csv(\"../../streamlit/data/clean_data.csv\", index=False)"
   ]
  },
  {
   "cell_type": "code",
   "execution_count": 18,
   "metadata": {},
   "outputs": [
    {
     "data": {
      "text/plain": [
       "Index(['Hora', 'Submercado', 'Data', 'Valor'], dtype='object')"
      ]
     },
     "execution_count": 18,
     "metadata": {},
     "output_type": "execute_result"
    }
   ],
   "source": [
    "data_melted.columns"
   ]
  },
  {
   "cell_type": "code",
   "execution_count": 9,
   "metadata": {},
   "outputs": [
    {
     "data": {
      "text/plain": [
       "Mes\n",
       "7     19964\n",
       "10    19964\n",
       "8     19872\n",
       "5     19596\n",
       "9     19320\n",
       "6     18952\n",
       "4     17572\n",
       "11    17112\n",
       "12    17112\n",
       "1     17112\n",
       "3     17112\n",
       "2     15640\n",
       "Name: count, dtype: int64"
      ]
     },
     "execution_count": 9,
     "metadata": {},
     "output_type": "execute_result"
    }
   ],
   "source": [
    "data_melted.Mes.value_counts()"
   ]
  },
  {
   "cell_type": "code",
   "execution_count": 10,
   "metadata": {},
   "outputs": [],
   "source": [
    "data_melted[\n",
    "    data_melted[\"Hora\"]\n",
    "    == \"Observação: As linhas 98 a 101 são referentes a segunda hora 23h as 23h59 no dia 16/02/2019 considerando o horário de verão\"\n",
    "] = 25"
   ]
  },
  {
   "cell_type": "code",
   "execution_count": 11,
   "metadata": {},
   "outputs": [
    {
     "data": {
      "text/plain": [
       "Hora\n",
       "1     9536\n",
       "13    9536\n",
       "22    9536\n",
       "21    9536\n",
       "20    9536\n",
       "19    9536\n",
       "18    9536\n",
       "17    9536\n",
       "16    9536\n",
       "15    9536\n",
       "14    9536\n",
       "12    9536\n",
       "2     9536\n",
       "11    9536\n",
       "10    9536\n",
       "9     9536\n",
       "8     9536\n",
       "7     9536\n",
       "6     9536\n",
       "5     9536\n",
       "4     9536\n",
       "3     9536\n",
       "23    9536\n",
       "Name: count, dtype: int64"
      ]
     },
     "execution_count": 11,
     "metadata": {},
     "output_type": "execute_result"
    }
   ],
   "source": [
    "data_melted.value_counts(\"Hora\")"
   ]
  },
  {
   "cell_type": "code",
   "execution_count": 13,
   "metadata": {},
   "outputs": [
    {
     "data": {
      "text/plain": [
       "Index(['Hora', 'Submercado', 'Data', 'Valor', 'Ano', 'Mes'], dtype='object')"
      ]
     },
     "execution_count": 13,
     "metadata": {},
     "output_type": "execute_result"
    }
   ],
   "source": [
    "data_melted.columns"
   ]
  },
  {
   "cell_type": "code",
   "execution_count": null,
   "metadata": {},
   "outputs": [
    {
     "name": "stdout",
     "output_type": "stream",
     "text": [
      "URL encontrada: https://www.ccee.org.br/documents/80415/919464/Historico_do_Preco_Horario_-_17_de_abril_de_2018_a_3_dezembro_de_2024.xlsx/f68576ff-b940-0a2c-a7e0-17a1068c8b98?version=1.0&t=1675864330758&download=true\n",
      "Arquivo salvo como Historico_do_Preco_Horario.xlsx\n"
     ]
    }
   ],
   "source": [
    "import requests\n",
    "from bs4 import BeautifulSoup\n",
    "\n",
    "# URL do site\n",
    "url = \"https://www.ccee.org.br/web/guest/precos/painel-precos\"\n",
    "\n",
    "# Fazer a requisição HTTP\n",
    "response = requests.get(url)\n",
    "\n",
    "# Verificar se a requisição foi bem-sucedida\n",
    "if response.status_code == 200:\n",
    "    # Parsear o HTML da página\n",
    "    soup = BeautifulSoup(response.content, \"html.parser\")\n",
    "\n",
    "    # Encontrar o elemento <option> com o valor desejado\n",
    "    option_element = soup.find(\"option\", value=\"HORARIO\")\n",
    "\n",
    "    # Se o elemento foi encontrado, extrair o valor de data-url\n",
    "    if option_element:\n",
    "        data_url = option_element.get(\"data-url\")\n",
    "        print(f\"URL encontrada: {data_url}\")\n",
    "    else:\n",
    "        print(\"Elemento <option> não encontrado.\")\n",
    "else:\n",
    "    print(f\"Erro ao acessar o site: {response.status_code}\")\n",
    "\n",
    "# URL do arquivo\n",
    "url = data_url\n",
    "# Nome do arquivo para salvar\n",
    "filename = \"Historico_do_Preco_Horario.xlsx\"\n",
    "\n",
    "# Fazer o download\n",
    "response = requests.get(url)\n",
    "\n",
    "# Verificar se o download foi bem-sucedido\n",
    "if response.status_code == 200:\n",
    "    with open(filename, \"wb\") as file:\n",
    "        file.write(response.content)\n",
    "    print(f\"Arquivo salvo como {filename}\")\n",
    "else:\n",
    "    print(f\"Erro ao baixar o arquivo: {response.status_code}\")"
   ]
  },
  {
   "cell_type": "code",
   "execution_count": 3,
   "metadata": {},
   "outputs": [
    {
     "name": "stdout",
     "output_type": "stream",
     "text": [
      "URL encontrada: https://www.ccee.org.br/documents/80415/919464/Historico_do_Preco_Horario_-_17_de_abril_de_2018_a_3_dezembro_de_2024.xlsx/f68576ff-b940-0a2c-a7e0-17a1068c8b98?version=1.0&t=1675864330758&download=true\n"
     ]
    }
   ],
   "source": [
    "import requests\n",
    "from bs4 import BeautifulSoup\n",
    "\n",
    "# URL do site\n",
    "url = \"https://www.ccee.org.br/web/guest/precos/painel-precos\"\n",
    "\n",
    "# Fazer a requisição HTTP\n",
    "response = requests.get(url)\n",
    "\n",
    "# Verificar se a requisição foi bem-sucedida\n",
    "if response.status_code == 200:\n",
    "    # Parsear o HTML da página\n",
    "    soup = BeautifulSoup(response.content, \"html.parser\")\n",
    "\n",
    "    # Encontrar o elemento <option> com o valor desejado\n",
    "    option_element = soup.find(\"option\", value=\"HORARIO\")\n",
    "\n",
    "    # Se o elemento foi encontrado, extrair o valor de data-url\n",
    "    if option_element:\n",
    "        data_url = option_element.get(\"data-url\")\n",
    "        print(f\"URL encontrada: {data_url}\")\n",
    "    else:\n",
    "        print(\"Elemento <option> não encontrado.\")\n",
    "else:\n",
    "    print(f\"Erro ao acessar o site: {response.status_code}\")"
   ]
  },
  {
   "cell_type": "code",
   "execution_count": null,
   "metadata": {},
   "outputs": [],
   "source": []
  }
 ],
 "metadata": {
  "kernelspec": {
   "display_name": "projeto_pld",
   "language": "python",
   "name": "python3"
  },
  "language_info": {
   "codemirror_mode": {
    "name": "ipython",
    "version": 3
   },
   "file_extension": ".py",
   "mimetype": "text/x-python",
   "name": "python",
   "nbconvert_exporter": "python",
   "pygments_lexer": "ipython3",
   "version": "3.12.7"
  }
 },
 "nbformat": 4,
 "nbformat_minor": 2
}
