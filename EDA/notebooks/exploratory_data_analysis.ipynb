{
 "cells": [
  {
   "cell_type": "code",
   "execution_count": 1,
   "metadata": {},
   "outputs": [],
   "source": [
    "import pandas as pd\n",
    "import numpy as np"
   ]
  },
  {
   "cell_type": "code",
   "execution_count": 2,
   "metadata": {},
   "outputs": [
    {
     "data": {
      "text/plain": [
       "['Test Sheet']"
      ]
     },
     "execution_count": 2,
     "metadata": {},
     "output_type": "execute_result"
    }
   ],
   "source": [
    "excel_path = \"../data/Historico_do_Preco_Horario_-_17_de_abril_de_2018_a_6_de_novembro_de_2024.xlsx\"\n",
    "df = pd.ExcelFile(excel_path)\n",
    "df.sheet_names"
   ]
  },
  {
   "cell_type": "code",
   "execution_count": 3,
   "metadata": {},
   "outputs": [],
   "source": [
    "data = df.parse(sheet_name=df.sheet_names[0])"
   ]
  },
  {
   "cell_type": "code",
   "execution_count": 4,
   "metadata": {},
   "outputs": [],
   "source": [
    "# Despivotar os dados para transformar colunas de datas em linhas\n",
    "data_melted = data.melt(\n",
    "    id_vars=[\"Hora\", \"Submercado\"],  # Colunas que permanecem como identificadores\n",
    "    var_name=\"Data\",  # Nome para a nova coluna que conterá os nomes das colunas originais (datas)\n",
    "    value_name=\"Valor\",  # Nome para a nova coluna que conterá os valores das colunas originais\n",
    ")\n",
    "\n",
    "data.dropna(inplace=True)\n",
    "\n",
    "# # Converter a coluna \"Data\" para o formato datetime\n",
    "# data_melted[\"Data\"] = pd.to_datetime(data_melted[\"Data\"], errors=\"coerce\")\n",
    "# data_melted = data_melted.reset_index(drop=True)\n",
    "# data_melted = data_melted.assign(\n",
    "#     Ano=data_melted.Data.dt.year, Mes=data_melted.Data.dt.month\n",
    "# )\n",
    "\n",
    "data_melted.to_csv(\"../../streamlit/data/clean_data.csv\", index=False)"
   ]
  },
  {
   "cell_type": "code",
   "execution_count": 5,
   "metadata": {},
   "outputs": [
    {
     "data": {
      "text/plain": [
       "Index(['Hora', 'Submercado', 'Data', 'Valor'], dtype='object')"
      ]
     },
     "execution_count": 5,
     "metadata": {},
     "output_type": "execute_result"
    }
   ],
   "source": [
    "data_melted.columns"
   ]
  },
  {
   "cell_type": "code",
   "execution_count": 9,
   "metadata": {},
   "outputs": [
    {
     "data": {
      "text/html": [
       "<div>\n",
       "<style scoped>\n",
       "    .dataframe tbody tr th:only-of-type {\n",
       "        vertical-align: middle;\n",
       "    }\n",
       "\n",
       "    .dataframe tbody tr th {\n",
       "        vertical-align: top;\n",
       "    }\n",
       "\n",
       "    .dataframe thead th {\n",
       "        text-align: right;\n",
       "    }\n",
       "</style>\n",
       "<table border=\"1\" class=\"dataframe\">\n",
       "  <thead>\n",
       "    <tr style=\"text-align: right;\">\n",
       "      <th></th>\n",
       "      <th>Hora</th>\n",
       "      <th>Submercado</th>\n",
       "      <th>Data</th>\n",
       "      <th>Valor</th>\n",
       "    </tr>\n",
       "  </thead>\n",
       "  <tbody>\n",
       "    <tr>\n",
       "      <th>0</th>\n",
       "      <td>0</td>\n",
       "      <td>SUDESTE</td>\n",
       "      <td>2018-04-17 00:00:00</td>\n",
       "      <td>40.16</td>\n",
       "    </tr>\n",
       "    <tr>\n",
       "      <th>1</th>\n",
       "      <td>0</td>\n",
       "      <td>SUL</td>\n",
       "      <td>2018-04-17 00:00:00</td>\n",
       "      <td>40.16</td>\n",
       "    </tr>\n",
       "    <tr>\n",
       "      <th>2</th>\n",
       "      <td>0</td>\n",
       "      <td>NORDESTE</td>\n",
       "      <td>2018-04-17 00:00:00</td>\n",
       "      <td>40.16</td>\n",
       "    </tr>\n",
       "    <tr>\n",
       "      <th>3</th>\n",
       "      <td>0</td>\n",
       "      <td>NORTE</td>\n",
       "      <td>2018-04-17 00:00:00</td>\n",
       "      <td>40.16</td>\n",
       "    </tr>\n",
       "    <tr>\n",
       "      <th>4</th>\n",
       "      <td>1</td>\n",
       "      <td>SUDESTE</td>\n",
       "      <td>2018-04-17 00:00:00</td>\n",
       "      <td>40.16</td>\n",
       "    </tr>\n",
       "    <tr>\n",
       "      <th>...</th>\n",
       "      <td>...</td>\n",
       "      <td>...</td>\n",
       "      <td>...</td>\n",
       "      <td>...</td>\n",
       "    </tr>\n",
       "    <tr>\n",
       "      <th>995</th>\n",
       "      <td>19</td>\n",
       "      <td>SUL</td>\n",
       "      <td>2018-04-29 00:00:00</td>\n",
       "      <td>212.69</td>\n",
       "    </tr>\n",
       "    <tr>\n",
       "      <th>996</th>\n",
       "      <td>19</td>\n",
       "      <td>NORDESTE</td>\n",
       "      <td>2018-04-29 00:00:00</td>\n",
       "      <td>156.66</td>\n",
       "    </tr>\n",
       "    <tr>\n",
       "      <th>997</th>\n",
       "      <td>19</td>\n",
       "      <td>NORTE</td>\n",
       "      <td>2018-04-29 00:00:00</td>\n",
       "      <td>156.62</td>\n",
       "    </tr>\n",
       "    <tr>\n",
       "      <th>998</th>\n",
       "      <td>20</td>\n",
       "      <td>SUDESTE</td>\n",
       "      <td>2018-04-29 00:00:00</td>\n",
       "      <td>209.36</td>\n",
       "    </tr>\n",
       "    <tr>\n",
       "      <th>999</th>\n",
       "      <td>20</td>\n",
       "      <td>SUL</td>\n",
       "      <td>2018-04-29 00:00:00</td>\n",
       "      <td>209.40</td>\n",
       "    </tr>\n",
       "  </tbody>\n",
       "</table>\n",
       "<p>1000 rows × 4 columns</p>\n",
       "</div>"
      ],
      "text/plain": [
       "    Hora Submercado                 Data   Valor\n",
       "0      0    SUDESTE  2018-04-17 00:00:00   40.16\n",
       "1      0        SUL  2018-04-17 00:00:00   40.16\n",
       "2      0   NORDESTE  2018-04-17 00:00:00   40.16\n",
       "3      0      NORTE  2018-04-17 00:00:00   40.16\n",
       "4      1    SUDESTE  2018-04-17 00:00:00   40.16\n",
       "..   ...        ...                  ...     ...\n",
       "995   19        SUL  2018-04-29 00:00:00  212.69\n",
       "996   19   NORDESTE  2018-04-29 00:00:00  156.66\n",
       "997   19      NORTE  2018-04-29 00:00:00  156.62\n",
       "998   20    SUDESTE  2018-04-29 00:00:00  209.36\n",
       "999   20        SUL  2018-04-29 00:00:00  209.40\n",
       "\n",
       "[1000 rows x 4 columns]"
      ]
     },
     "execution_count": 9,
     "metadata": {},
     "output_type": "execute_result"
    }
   ],
   "source": [
    "data_melted.head(1000)"
   ]
  },
  {
   "cell_type": "code",
   "execution_count": 10,
   "metadata": {},
   "outputs": [],
   "source": [
    "data_melted[\n",
    "    data_melted[\"Hora\"]\n",
    "    == \"Observação: As linhas 98 a 101 são referentes a segunda hora 23h as 23h59 no dia 16/02/2019 considerando o horário de verão\"\n",
    "] = 25"
   ]
  },
  {
   "cell_type": "code",
   "execution_count": 11,
   "metadata": {},
   "outputs": [
    {
     "data": {
      "text/plain": [
       "Hora\n",
       "23    19288\n",
       "0      9644\n",
       "13     9644\n",
       "22     9644\n",
       "21     9644\n",
       "20     9644\n",
       "19     9644\n",
       "18     9644\n",
       "17     9644\n",
       "16     9644\n",
       "15     9644\n",
       "14     9644\n",
       "12     9644\n",
       "1      9644\n",
       "11     9644\n",
       "10     9644\n",
       "9      9644\n",
       "8      9644\n",
       "7      9644\n",
       "6      9644\n",
       "5      9644\n",
       "4      9644\n",
       "3      9644\n",
       "2      9644\n",
       "25     2411\n",
       "Name: count, dtype: int64"
      ]
     },
     "execution_count": 11,
     "metadata": {},
     "output_type": "execute_result"
    }
   ],
   "source": [
    "data_melted.value_counts(\"Hora\")"
   ]
  },
  {
   "cell_type": "code",
   "execution_count": 13,
   "metadata": {},
   "outputs": [
    {
     "data": {
      "text/plain": [
       "Index(['Hora', 'Submercado', 'Data', 'Valor', 'Ano', 'Mes'], dtype='object')"
      ]
     },
     "execution_count": 13,
     "metadata": {},
     "output_type": "execute_result"
    }
   ],
   "source": [
    "data_melted.columns"
   ]
  },
  {
   "cell_type": "code",
   "execution_count": null,
   "metadata": {},
   "outputs": [
    {
     "name": "stdout",
     "output_type": "stream",
     "text": [
      "URL encontrada: https://www.ccee.org.br/documents/80415/919464/Historico_do_Preco_Horario_-_17_de_abril_de_2018_a_3_dezembro_de_2024.xlsx/f68576ff-b940-0a2c-a7e0-17a1068c8b98?version=1.0&t=1675864330758&download=true\n",
      "Arquivo salvo como Historico_do_Preco_Horario.xlsx\n"
     ]
    }
   ],
   "source": [
    "import requests\n",
    "from bs4 import BeautifulSoup\n",
    "\n",
    "# URL do site\n",
    "url = \"https://www.ccee.org.br/web/guest/precos/painel-precos\"\n",
    "\n",
    "# Fazer a requisição HTTP\n",
    "response = requests.get(url)\n",
    "\n",
    "# Verificar se a requisição foi bem-sucedida\n",
    "if response.status_code == 200:\n",
    "    # Parsear o HTML da página\n",
    "    soup = BeautifulSoup(response.content, \"html.parser\")\n",
    "\n",
    "    # Encontrar o elemento <option> com o valor desejado\n",
    "    option_element = soup.find(\"option\", value=\"HORARIO\")\n",
    "\n",
    "    # Se o elemento foi encontrado, extrair o valor de data-url\n",
    "    if option_element:\n",
    "        data_url = option_element.get(\"data-url\")\n",
    "        print(f\"URL encontrada: {data_url}\")\n",
    "    else:\n",
    "        print(\"Elemento <option> não encontrado.\")\n",
    "else:\n",
    "    print(f\"Erro ao acessar o site: {response.status_code}\")\n",
    "\n",
    "# URL do arquivo\n",
    "url = data_url\n",
    "# Nome do arquivo para salvar\n",
    "filename = \"Historico_do_Preco_Horario.xlsx\"\n",
    "\n",
    "# Fazer o download\n",
    "response = requests.get(url)\n",
    "\n",
    "# Verificar se o download foi bem-sucedido\n",
    "if response.status_code == 200:\n",
    "    with open(filename, \"wb\") as file:\n",
    "        file.write(response.content)\n",
    "    print(f\"Arquivo salvo como {filename}\")\n",
    "else:\n",
    "    print(f\"Erro ao baixar o arquivo: {response.status_code}\")"
   ]
  },
  {
   "cell_type": "code",
   "execution_count": 3,
   "metadata": {},
   "outputs": [
    {
     "name": "stdout",
     "output_type": "stream",
     "text": [
      "URL encontrada: https://www.ccee.org.br/documents/80415/919464/Historico_do_Preco_Horario_-_17_de_abril_de_2018_a_3_dezembro_de_2024.xlsx/f68576ff-b940-0a2c-a7e0-17a1068c8b98?version=1.0&t=1675864330758&download=true\n"
     ]
    }
   ],
   "source": [
    "import requests\n",
    "from bs4 import BeautifulSoup\n",
    "\n",
    "# URL do site\n",
    "url = \"https://www.ccee.org.br/web/guest/precos/painel-precos\"\n",
    "\n",
    "# Fazer a requisição HTTP\n",
    "response = requests.get(url)\n",
    "\n",
    "# Verificar se a requisição foi bem-sucedida\n",
    "if response.status_code == 200:\n",
    "    # Parsear o HTML da página\n",
    "    soup = BeautifulSoup(response.content, \"html.parser\")\n",
    "\n",
    "    # Encontrar o elemento <option> com o valor desejado\n",
    "    option_element = soup.find(\"option\", value=\"HORARIO\")\n",
    "\n",
    "    # Se o elemento foi encontrado, extrair o valor de data-url\n",
    "    if option_element:\n",
    "        data_url = option_element.get(\"data-url\")\n",
    "        print(f\"URL encontrada: {data_url}\")\n",
    "    else:\n",
    "        print(\"Elemento <option> não encontrado.\")\n",
    "else:\n",
    "    print(f\"Erro ao acessar o site: {response.status_code}\")"
   ]
  },
  {
   "cell_type": "code",
   "execution_count": null,
   "metadata": {},
   "outputs": [],
   "source": []
  }
 ],
 "metadata": {
  "kernelspec": {
   "display_name": "projeto_pld",
   "language": "python",
   "name": "python3"
  },
  "language_info": {
   "codemirror_mode": {
    "name": "ipython",
    "version": 3
   },
   "file_extension": ".py",
   "mimetype": "text/x-python",
   "name": "python",
   "nbconvert_exporter": "python",
   "pygments_lexer": "ipython3",
   "version": "3.12.7"
  }
 },
 "nbformat": 4,
 "nbformat_minor": 2
}
